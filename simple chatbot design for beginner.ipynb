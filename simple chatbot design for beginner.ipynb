{
 "cells": [
  {
   "cell_type": "code",
   "execution_count": 1,
   "id": "edb46bcf",
   "metadata": {},
   "outputs": [
    {
     "name": "stderr",
     "output_type": "stream",
     "text": [
      "[nltk_data] Downloading package punkt to\n",
      "[nltk_data]     C:\\Users\\himan\\AppData\\Roaming\\nltk_data...\n",
      "[nltk_data]   Package punkt is already up-to-date!\n"
     ]
    },
    {
     "data": {
      "text/plain": [
       "True"
      ]
     },
     "execution_count": 1,
     "metadata": {},
     "output_type": "execute_result"
    }
   ],
   "source": [
    "import nltk\n",
    "nltk.download('punkt')"
   ]
  },
  {
   "cell_type": "code",
   "execution_count": 2,
   "id": "76bb920e",
   "metadata": {},
   "outputs": [
    {
     "name": "stdout",
     "output_type": "stream",
     "text": [
      "Collecting pyttsx3\n",
      "  Obtaining dependency information for pyttsx3 from https://files.pythonhosted.org/packages/33/9a/de4781245f5ad966646fd276259ef7cfd400ba3cf7d5db7c0d5aab310c20/pyttsx3-2.90-py3-none-any.whl.metadata\n",
      "  Downloading pyttsx3-2.90-py3-none-any.whl.metadata (3.6 kB)\n",
      "Collecting comtypes (from pyttsx3)\n",
      "  Obtaining dependency information for comtypes from https://files.pythonhosted.org/packages/2b/82/b897453a633dfd25bc09492e91b27f2f2fed5c9ef8d6d5fd7ecdb5148786/comtypes-1.3.1-py3-none-any.whl.metadata\n",
      "  Downloading comtypes-1.3.1-py3-none-any.whl.metadata (5.6 kB)\n",
      "Collecting pypiwin32 (from pyttsx3)\n",
      "  Obtaining dependency information for pypiwin32 from https://files.pythonhosted.org/packages/d0/1b/2f292bbd742e369a100c91faa0483172cd91a1a422a6692055ac920946c5/pypiwin32-223-py3-none-any.whl.metadata\n",
      "  Downloading pypiwin32-223-py3-none-any.whl.metadata (236 bytes)\n",
      "Requirement already satisfied: pywin32 in c:\\users\\himan\\anaconda3\\lib\\site-packages (from pyttsx3) (305.1)\n",
      "Downloading pyttsx3-2.90-py3-none-any.whl (39 kB)\n",
      "Downloading comtypes-1.3.1-py3-none-any.whl (197 kB)\n",
      "   ---------------------------------------- 0.0/197.8 kB ? eta -:--:--\n",
      "   --------------------------------------- 197.8/197.8 kB 11.7 MB/s eta 0:00:00\n",
      "Downloading pypiwin32-223-py3-none-any.whl (1.7 kB)\n",
      "Installing collected packages: comtypes, pypiwin32, pyttsx3\n",
      "Successfully installed comtypes-1.3.1 pypiwin32-223 pyttsx3-2.90\n"
     ]
    }
   ],
   "source": [
    "! pip install pyttsx3\n"
   ]
  },
  {
   "cell_type": "code",
   "execution_count": 3,
   "id": "fa1a1d20",
   "metadata": {},
   "outputs": [],
   "source": [
    "# importing necesssary lib for chatbot\n",
    "import nltk\n",
    "from nltk.tokenize import word_tokenize\n",
    "import time\n",
    "import random\n",
    "import pyttsx3"
   ]
  },
  {
   "cell_type": "code",
   "execution_count": 4,
   "id": "93796bf3",
   "metadata": {},
   "outputs": [],
   "source": [
    "greet = [\"hello i am good how are you\",\n",
    "        'hi my friend how can i help you',\n",
    "        'do you need any support form me']"
   ]
  },
  {
   "cell_type": "code",
   "execution_count": 5,
   "id": "2b28da3a",
   "metadata": {},
   "outputs": [],
   "source": [
    "data = {\"avenger\":['''The Avengers are a fictional team of superheroes and the protagonists of the Marvel Cinematic Universe (MCU) \n",
    "                      media franchise, based on the Marvel Comics team of the same name created by Stan Lee and Jack Kirby in\n",
    "                      1963. Founded by S.H.I.E.L.D. Director Nick Fury,\n",
    "                      the team is a United States-based organization composed primarily of \n",
    "                      superpowered and gifted individuals, described as \n",
    "                      \"Earth's Mightiest Heroes\", who are committed to the world's protection from a variety of threats.''',\n",
    "                  ],\n",
    "       \"hero\": \"Major heros 1) Iron Man 2)spyder man 3) Dr strange\",\n",
    "       \"ironman\" : \"Iron man also know as tony stark and one of the father of AI\"}"
   ]
  },
  {
   "cell_type": "code",
   "execution_count": 6,
   "id": "f0dd74c9",
   "metadata": {},
   "outputs": [
    {
     "name": "stdout",
     "output_type": "stream",
     "text": [
      "The Avengers are a fictional team of superheroes and the protagonists of the Marvel Cinematic Universe (MCU) \n",
      "                      media franchise, based on the Marvel Comics team of the same name created by Stan Lee and Jack Kirby in\n",
      "                      1963. Founded by S.H.I.E.L.D. Director Nick Fury,\n",
      "                      the team is a United States-based organization composed primarily of \n",
      "                      superpowered and gifted individuals, described as \n",
      "                      \"Earth's Mightiest Heroes\", who are committed to the world's protection from a variety of threats.\n",
      "Major heros 1) Iron Man 2)spyder man 3) Dr strange\n"
     ]
    }
   ],
   "source": [
    "print(data[\"avenger\"][0])\n",
    "print(data[\"hero\"])"
   ]
  },
  {
   "cell_type": "code",
   "execution_count": 7,
   "id": "fe8a1804",
   "metadata": {},
   "outputs": [],
   "source": [
    "travel = [\"contact name ABC mobile number is 2515464 and email abc@gmail.com\",\n",
    "         \"contact name ADEF mobile number is 2516455464 and email 124@gmail.com\"]"
   ]
  },
  {
   "cell_type": "code",
   "execution_count": 8,
   "id": "42cf24a0",
   "metadata": {},
   "outputs": [],
   "source": [
    "def chatbot():\n",
    "    print(\"Hello my name is alex and i am here for your help\")\n",
    "    while True:\n",
    "        # here user will type\n",
    "        mes = str(input(\"Human :--> \"))\n",
    "        # message will be broken into text\n",
    "        token = word_tokenize(mes)\n",
    "        token = [i.lower() for i in token]\n",
    "        # rule for greeting\n",
    "        if \"hello\" in token or \"hi\" in token or \"hii\" in token or \"how\" in token:\n",
    "            res = str(random.choice(greet))\n",
    "            print(\"Alex :-->\"+\" \"+res)\n",
    "            \n",
    "        elif \"time\" in token:\n",
    "            var = str(time.ctime(time.time()))\n",
    "            tim = var[11:19]\n",
    "            print(\"Alex :--> the time is {}\".format(tim))\n",
    "        elif \"date\" in token:\n",
    "            var = str(time.ctime(time.time()))\n",
    "            month = var[4:7]\n",
    "            date = var[8:10]\n",
    "            year = var[20:]\n",
    "            dd = date+\"/\"+month+\"/\"+year\n",
    "            print(\"Alex :--> Today date is {}\".format(dd))\n",
    "        elif \"avenger\" in token:\n",
    "            print(\"Alex :--> \"+str(data[\"avenger\"][0]))\n",
    "            av = str(data[\"avenger\"][0])\n",
    "            \n",
    "            print(\"Alex :--> \"+\"I have more information on avengers\")\n",
    "            n = str(input(\"enter Choice 1 or 2 or others for exit\"))\n",
    "            print(\"Alex :--> 1: heros 2: ectc...\")\n",
    "            if n ==\"1\":\n",
    "                print(\"Alex :--> \"+str(data[\"hero\"]))\n",
    "            if n ==\"2\":\n",
    "                print(\"Alex :--> \"+str(data[\"ironman\"]))\n",
    "            else:\n",
    "                print(\"Alex :--> \"+\"I have more information...\")    \n",
    "        elif \"travel\" in token or \"planning\" in token or \"visit\" in token:\n",
    "            tv = str(random.choice(travel))\n",
    "            print(\"Alex :--> contact the following person \"+tv)\n",
    "                  \n",
    "        elif (\"quit\" in token) or (\"bye\" in token) or (\"takecare\" in token):\n",
    "            print(\"Alex :-->\"+\" Thank you and have a great day\")\n",
    "            \n",
    "            break\n",
    "        else:\n",
    "            print(\"Alex :--> sorry i don't understand what are you saying\")"
   ]
  },
  {
   "cell_type": "code",
   "execution_count": 10,
   "id": "c2123406",
   "metadata": {},
   "outputs": [
    {
     "name": "stdout",
     "output_type": "stream",
     "text": [
      "Hello my name is alex and i am here for your help\n",
      "Human :--> hi\n",
      "Alex :--> do you need any support form me\n",
      "Human :--> hi\n",
      "Alex :--> hello i am good how are you\n",
      "Human :--> what is time now\n",
      "Alex :--> the time is 20:09:35\n",
      "Human :--> what is todays date\n",
      "Alex :--> Today date is 22/Mar/2024\n",
      "Human :--> i am average\n",
      "Alex :--> sorry i don't understand what are you saying\n",
      "Human :--> avenger\n",
      "Alex :--> The Avengers are a fictional team of superheroes and the protagonists of the Marvel Cinematic Universe (MCU) \n",
      "                      media franchise, based on the Marvel Comics team of the same name created by Stan Lee and Jack Kirby in\n",
      "                      1963. Founded by S.H.I.E.L.D. Director Nick Fury,\n",
      "                      the team is a United States-based organization composed primarily of \n",
      "                      superpowered and gifted individuals, described as \n",
      "                      \"Earth's Mightiest Heroes\", who are committed to the world's protection from a variety of threats.\n",
      "Alex :--> I have more information on avengers\n",
      "enter Choice 1 or 2 or others for exit1\n",
      "Alex :--> 1: heros 2: ectc...\n",
      "Alex :--> Major heros 1) Iron Man 2)spyder man 3) Dr strange\n",
      "Alex :--> I have more information...\n",
      "Human :--> 1\n",
      "Alex :--> sorry i don't understand what are you saying\n",
      "Human :--> 2\n",
      "Alex :--> sorry i don't understand what are you saying\n",
      "Human :--> exit1\n",
      "Alex :--> sorry i don't understand what are you saying\n",
      "Human :--> bye\n",
      "Alex :--> Thank you and have a great day\n"
     ]
    }
   ],
   "source": [
    "chatbot()\n"
   ]
  },
  {
   "cell_type": "code",
   "execution_count": null,
   "id": "9fb3b34f",
   "metadata": {},
   "outputs": [],
   "source": []
  }
 ],
 "metadata": {
  "kernelspec": {
   "display_name": "Python 3 (ipykernel)",
   "language": "python",
   "name": "python3"
  },
  "language_info": {
   "codemirror_mode": {
    "name": "ipython",
    "version": 3
   },
   "file_extension": ".py",
   "mimetype": "text/x-python",
   "name": "python",
   "nbconvert_exporter": "python",
   "pygments_lexer": "ipython3",
   "version": "3.11.5"
  }
 },
 "nbformat": 4,
 "nbformat_minor": 5
}
